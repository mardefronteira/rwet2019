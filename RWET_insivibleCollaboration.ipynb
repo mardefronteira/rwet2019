{
 "cells": [
  {
   "cell_type": "markdown",
   "metadata": {},
   "source": [
    "# invisible collaboration\n",
    "\n",
    "Invisible collaboration is a project developed for the class Electronic Rituals, Oracles and Fortune Telling. It explores the idea of communicating with someone from the past - a version of someone that was documented through text at some point in history. For that class, I developed an automatic writing tool that collaborates with you through adding words to what you are writing. It looks in Italo Calvino's books Six memos for the next millenium and Invisible cities for the word that the user inputs, and if it finds it, it chooses a word to add after it in the text.\n",
    "For Reading and Writing Electronic Text, I decided to use this same premise, but since this is not interactive, the text input has to be given as a whole. The purpose ends up being different, but I found it to be very interesting."
   ]
  },
  {
   "cell_type": "code",
   "execution_count": 1,
   "metadata": {},
   "outputs": [],
   "source": [
    "from collections import Counter\n",
    "import random\n",
    "calvino = open(\"text/calvino.txt\").read().split()"
   ]
  },
  {
   "cell_type": "code",
   "execution_count": 2,
   "metadata": {},
   "outputs": [],
   "source": [
    "model = {}\n",
    "for i in range(len(calvino)-2):\n",
    "    cBigram = tuple(calvino[i:i+2])\n",
    "    cNextWord = calvino[i+2]\n",
    "    if cBigram not in model:\n",
    "        model[cBigram] = []\n",
    "    model[cBigram].append(cNextWord)"
   ]
  },
  {
   "cell_type": "code",
   "execution_count": 3,
   "metadata": {},
   "outputs": [
    {
     "data": {
      "text/plain": [
       "'in which Pat which I mean I was attracted was trying to trying to do to do something automatic writing of writing and who— and the world, the only thing way that the that I am I found the to stop and thinking about the about my own my own language of what I what I am I was born was to show to think about think about them a golden cock down a street '"
      ]
     },
     "execution_count": 3,
     "metadata": {},
     "output_type": "execute_result"
    }
   ],
   "source": [
    "input = \"There was this day in which I was trying to do some automatic writing and the only way that I found to stop thinking about my own judgment of what I was doing was to think about a golden retriever running down a hill. So cute.\"\n",
    "input = input.split()\n",
    "composition = \"\"\n",
    "\n",
    "for i in range(len(input)):\n",
    "    bigram = tuple(input[i:i+2])\n",
    "    if bigram in model:\n",
    "        nextWord = random.choice(model[bigram])\n",
    "        if nextWord is None:\n",
    "            composition += bigram[0] + \" \" + bigram[1] + \" \"\n",
    "        else:\n",
    "            composition += bigram[0] + \" \" + bigram[1] + \" \" + nextWord + \" \"\n",
    "        \n",
    "composition\n",
    "    "
   ]
  },
  {
   "cell_type": "code",
   "execution_count": 4,
   "metadata": {
    "scrolled": true
   },
   "outputs": [
    {
     "data": {
      "text/plain": [
       "'There was this day in which the I think was born trying to to understand do this some automatic writing of and drawing, the flame only weapon way that is I have found these to stop and thinking about the my own own idea judgment of what a I am was lost. doing was to give think up about Flaubert, a golden cock retriever running down a street hill. So cute. '"
      ]
     },
     "execution_count": 4,
     "metadata": {},
     "output_type": "execute_result"
    }
   ],
   "source": [
    "input = \"There was this day in which I was trying to do some automatic writing and the only way that I found to stop thinking about my own judgment of what I was doing was to think about a golden retriever running down a hill. So cute.\"\n",
    "input= input.split()\n",
    "composition = input[0] + \" \"\n",
    "\n",
    "for i in range(len(input)):\n",
    "    bigram = tuple(input[i:i+2])\n",
    "    if bigram in model:\n",
    "        nextWord = random.choice(model[bigram])\n",
    "        composition += bigram[1] + \" \" + nextWord + \" \"\n",
    "    else:\n",
    "        if len(bigram) == 2:\n",
    "            composition += bigram[1] + \" \"\n",
    "            \n",
    "composition\n",
    "    "
   ]
  },
  {
   "cell_type": "markdown",
   "metadata": {},
   "source": [
    "I was trying to get rid of the duplicates in here, but when I remove the items, the index gets out of range. Not sure how to solve this yet."
   ]
  },
  {
   "cell_type": "code",
   "execution_count": 14,
   "metadata": {
    "scrolled": true
   },
   "outputs": [
    {
     "data": {
      "text/plain": [
       "'Therewas this day in in which its which I poke I was able was trying to trying to understand to do something some automatic automatic writing of writing and drawing, and the tree the only consolations way way that the that I consider I found these to to stop and thinking thinking about these about my own my own idea judgment of of what is what I wanted I was born doing was was to show to think about think about them a a golden cock retriever running down down a street hill. So cute. '"
      ]
     },
     "execution_count": 14,
     "metadata": {},
     "output_type": "execute_result"
    }
   ],
   "source": [
    "input = \"There was this day in which I was trying to do some automatic writing and the only way that I found to stop thinking about my own judgment of what I was doing was to think about a golden retriever running down a hill. So cute.\"\n",
    "input= input.split()\n",
    "composition = input[0]\n",
    "\n",
    "for i in range(len(input)):\n",
    "    bigram = tuple(input[i:i+2])\n",
    "    if bigram in model:\n",
    "        nextWord = random.choice(model[bigram])\n",
    "        composition += \" \".join(bigram) + \" \" + nextWord + \" \"\n",
    "    else:\n",
    "        lastWord = composition.split()[-1]\n",
    "        if len(bigram) == 2 and lastWord != bigram[1]:\n",
    "            composition += bigram[1] + \" \"\n",
    "            \n",
    "# composition = composition.split()\n",
    "\n",
    "# for i in range(len(composition)-3):\n",
    "#     if composition[i] == composition[i+1]:\n",
    "#         composition.remove(composition[i+1])\n",
    "    \n",
    "# composition = \" \".join(composition)\n",
    "\n",
    "composition"
   ]
  },
  {
   "cell_type": "code",
   "execution_count": null,
   "metadata": {},
   "outputs": [],
   "source": []
  }
 ],
 "metadata": {
  "kernelspec": {
   "display_name": "Python 3",
   "language": "python",
   "name": "python3"
  },
  "language_info": {
   "codemirror_mode": {
    "name": "ipython",
    "version": 3
   },
   "file_extension": ".py",
   "mimetype": "text/x-python",
   "name": "python",
   "nbconvert_exporter": "python",
   "pygments_lexer": "ipython3",
   "version": "3.7.1"
  }
 },
 "nbformat": 4,
 "nbformat_minor": 2
}
