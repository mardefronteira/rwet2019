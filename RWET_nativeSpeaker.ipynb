{
 "cells": [
  {
   "cell_type": "code",
   "execution_count": 43,
   "metadata": {},
   "outputs": [
    {
     "name": "stdout",
     "output_type": "stream",
     "text": [
      "Um texto em english! That poderia be much mais longo, one day it será. I saber como know com a deal Pontuação?\n"
     ]
    }
   ],
   "source": [
    "import random\n",
    "\n",
    "txtPt = \"Um texto em português que? poderia ser. muito mais longo, e um? dia será. Preciso saber como lidar com a pontuação. Pontuação?\"\n",
    "txtEn = \"A text in english! that could be much longer, and! one day it will. I need to know how to deal with punctuation. Punctuation?\"\n",
    "\n",
    "langText = {\n",
    "    'pt': txtPt.split(),\n",
    "    'en': txtEn.split()\n",
    "}\n",
    "\n",
    "rdmList = [1,2]\n",
    "texto = []\n",
    "\n",
    "for num in range(len(langText['pt'])):\n",
    "    \n",
    "# I tried using random() and it would say \"TypeError: 'module' object is not callable\"\n",
    "\n",
    "    rdm = random.choice(rdmList)\n",
    "    \n",
    "    if rdm % 2 == 0:\n",
    "        texto.append(langText['pt'][num])\n",
    "    else:\n",
    "        texto.append(langText['en'][num])\n",
    "    \n",
    "for palavra in texto:\n",
    "    \n",
    "# is there a fancier way to do this?\n",
    "    \n",
    "    if palavra.endswith('.') or palavra.endswith('!') or palavra.endswith('?') and texto.index(palavra) != len(texto)-1:\n",
    "        texto[texto.index(palavra)+1] = texto[texto.index(palavra)+1].title()\n",
    "\n",
    "print(\" \".join(texto))"
   ]
  }
 ],
 "metadata": {
  "kernelspec": {
   "display_name": "Python 3",
   "language": "python",
   "name": "python3"
  },
  "language_info": {
   "codemirror_mode": {
    "name": "ipython",
    "version": 3
   },
   "file_extension": ".py",
   "mimetype": "text/x-python",
   "name": "python",
   "nbconvert_exporter": "python",
   "pygments_lexer": "ipython3",
   "version": "3.7.1"
  }
 },
 "nbformat": 4,
 "nbformat_minor": 2
}
